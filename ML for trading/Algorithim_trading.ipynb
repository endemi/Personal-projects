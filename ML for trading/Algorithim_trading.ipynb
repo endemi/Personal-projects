{
 "cells": [
  {
   "cell_type": "code",
   "execution_count": 42,
   "id": "4b55e551",
   "metadata": {},
   "outputs": [
    {
     "name": "stderr",
     "output_type": "stream",
     "text": [
      "[*********************100%***********************]  503 of 503 completed\n",
      "\n",
      "1 Failed download:\n",
      "['SW']: YFPricesMissingError('possibly delisted; no price data found  (1d 2022-06-01 -> 2024-06-01) (Yahoo error = \"Data doesn\\'t exist for startDate = 1654056000, endDate = 1717214400\")')\n"
     ]
    },
    {
     "name": "stdout",
     "output_type": "stream",
     "text": [
      "attribute       date     ticker           A        AAPL        ABBV  \\\n",
      "0         2022-06-01  Adj Close  120.500023  146.361862  130.349350   \n",
      "1         2022-06-01      Close  123.089996  148.710007  146.020004   \n",
      "2         2022-06-01       High  128.979996  151.740005  147.889999   \n",
      "3         2022-06-01        Low  122.430000  147.679993  144.320007   \n",
      "4         2022-06-01       Open  127.860001  149.899994  147.789993   \n",
      "\n",
      "attribute        ABNB         ABT       ACGL         ACN        ADBE  ...  \\\n",
      "0          116.720001  108.533936  44.473526  284.401428  418.160004  ...   \n",
      "1          116.720001  115.080002  46.770000  298.649994  418.160004  ...   \n",
      "2          121.073997  118.000000  47.650002  306.709991  437.549988  ...   \n",
      "3          114.394997  114.529999  46.139999  297.380005  413.790009  ...   \n",
      "4          121.050003  117.849998  47.459999  304.130005  428.000000  ...   \n",
      "\n",
      "attribute         WTW         WY       WYNN        XEL        XOM        XYL  \\\n",
      "0          200.021896  34.635372  63.582222  67.397095  88.275131  80.777374   \n",
      "1          208.470001  38.709999  65.129997  75.120003  97.839996  83.750000   \n",
      "2          212.309998  39.590000  68.339996  75.559998  98.709999  85.599998   \n",
      "3          205.309998  38.459999  63.970001  74.510002  96.620003  83.059998   \n",
      "4          210.669998  39.590000  67.279999  75.519997  97.019997  84.949997   \n",
      "\n",
      "attribute         YUM         ZBH        ZBRA         ZTS  \n",
      "0          112.756310  116.355362  334.549988  162.200653  \n",
      "1          119.419998  119.279999  334.549988  167.020004  \n",
      "2          122.000000  120.830002  344.010010  171.830002  \n",
      "3          119.360001  116.910004  331.730011  165.669998  \n",
      "4          121.910004  120.830002  339.609985  170.869995  \n",
      "\n",
      "[5 rows x 504 columns]\n"
     ]
    }
   ],
   "source": [
    "import pandas as pd\n",
    "import yfinance as yf\n",
    "\n",
    "# 1. Load S&P 500 tickers from Wikipedia and fix symbols\n",
    "sp500 = pd.read_html('https://en.wikipedia.org/wiki/List_of_S%26P_500_companies')[0]\n",
    "sp500['symbol'] = sp500['Symbol'].str.replace('.', '-', regex=False)\n",
    "symbols = sp500['symbol'].unique().tolist()\n",
    "\n",
    "# 2. Set date range for data download\n",
    "end_date = pd.Timestamp('2024-06-01')\n",
    "start_date = end_date - pd.DateOffset(years=2)\n",
    "\n",
    "# 3. Download historical data for all tickers with multi-level columns (attribute, ticker)\n",
    "df = yf.download(\n",
    "    tickers=symbols,\n",
    "    start=start_date.strftime('%Y-%m-%d'),\n",
    "    end=end_date.strftime('%Y-%m-%d'),\n",
    "    group_by='ticker',\n",
    "    auto_adjust=False,\n",
    "    progress=True\n",
    ")\n",
    "\n",
    "# 4. Flatten multi-index columns: (attribute, ticker) -> ticker_attribute\n",
    "df.columns = ['{}_{}'.format(ticker, attr) for attr, ticker in df.columns]\n",
    "\n",
    "# 5. Convert wide to long format\n",
    "df_long = df.reset_index().melt(id_vars='Date', var_name='ticker_attr', value_name='value')\n",
    "\n",
    "# 6. Split 'ticker_attr' into 'ticker' and 'attribute'\n",
    "df_long[['ticker', 'attribute']] = df_long['ticker_attr'].str.rsplit('_', n=1, expand=True)\n",
    "\n",
    "# 7. Pivot to get columns: date, ticker, adj_close, close, high, low, open, volume\n",
    "df_tidy = df_long.pivot_table(index=['Date', 'ticker'], columns='attribute', values='value').reset_index()\n",
    "\n",
    "# 8. Rename columns to lowercase and consistent names\n",
    "df_tidy = df_tidy.rename(columns={\n",
    "    'Date': 'date',\n",
    "    'Adj Close': 'adj_close',\n",
    "    'Close': 'close',\n",
    "    'High': 'high',\n",
    "    'Low': 'low',\n",
    "    'Open': 'open',\n",
    "    'Volume': 'volume'\n",
    "})\n",
    "\n",
    "# 9. Optional: sort by date and ticker\n",
    "df_tidy = df_tidy.sort_values(['date', 'ticker']).reset_index(drop=True)\n",
    "\n",
    "# 10. Show sample output\n",
    "print(df_tidy.head())\n"
   ]
  },
  {
   "cell_type": "code",
   "execution_count": 32,
   "id": "5ef7fe7b-7846-4893-b1b8-3424340c1b8a",
   "metadata": {},
   "outputs": [
    {
     "ename": "KeyError",
     "evalue": "'high'",
     "output_type": "error",
     "traceback": [
      "\u001b[31m---------------------------------------------------------------------------\u001b[39m",
      "\u001b[31mKeyError\u001b[39m                                  Traceback (most recent call last)",
      "\u001b[36mFile \u001b[39m\u001b[32mc:\\Users\\minhp\\AppData\\Local\\Programs\\Python\\Python313\\Lib\\site-packages\\pandas\\core\\indexes\\base.py:3805\u001b[39m, in \u001b[36mIndex.get_loc\u001b[39m\u001b[34m(self, key)\u001b[39m\n\u001b[32m   3804\u001b[39m \u001b[38;5;28;01mtry\u001b[39;00m:\n\u001b[32m-> \u001b[39m\u001b[32m3805\u001b[39m     \u001b[38;5;28;01mreturn\u001b[39;00m \u001b[38;5;28;43mself\u001b[39;49m\u001b[43m.\u001b[49m\u001b[43m_engine\u001b[49m\u001b[43m.\u001b[49m\u001b[43mget_loc\u001b[49m\u001b[43m(\u001b[49m\u001b[43mcasted_key\u001b[49m\u001b[43m)\u001b[49m\n\u001b[32m   3806\u001b[39m \u001b[38;5;28;01mexcept\u001b[39;00m \u001b[38;5;167;01mKeyError\u001b[39;00m \u001b[38;5;28;01mas\u001b[39;00m err:\n",
      "\u001b[36mFile \u001b[39m\u001b[32mindex.pyx:167\u001b[39m, in \u001b[36mpandas._libs.index.IndexEngine.get_loc\u001b[39m\u001b[34m()\u001b[39m\n",
      "\u001b[36mFile \u001b[39m\u001b[32mindex.pyx:196\u001b[39m, in \u001b[36mpandas._libs.index.IndexEngine.get_loc\u001b[39m\u001b[34m()\u001b[39m\n",
      "\u001b[36mFile \u001b[39m\u001b[32mpandas\\\\_libs\\\\hashtable_class_helper.pxi:7081\u001b[39m, in \u001b[36mpandas._libs.hashtable.PyObjectHashTable.get_item\u001b[39m\u001b[34m()\u001b[39m\n",
      "\u001b[36mFile \u001b[39m\u001b[32mpandas\\\\_libs\\\\hashtable_class_helper.pxi:7089\u001b[39m, in \u001b[36mpandas._libs.hashtable.PyObjectHashTable.get_item\u001b[39m\u001b[34m()\u001b[39m\n",
      "\u001b[31mKeyError\u001b[39m: 'high'",
      "\nThe above exception was the direct cause of the following exception:\n",
      "\u001b[31mKeyError\u001b[39m                                  Traceback (most recent call last)",
      "\u001b[36mCell\u001b[39m\u001b[36m \u001b[39m\u001b[32mIn[32]\u001b[39m\u001b[32m, line 1\u001b[39m\n\u001b[32m----> \u001b[39m\u001b[32m1\u001b[39m df[\u001b[33m'\u001b[39m\u001b[33mgarman_klass_vol\u001b[39m\u001b[33m'\u001b[39m] = ((np.log(\u001b[43mdf\u001b[49m\u001b[43m[\u001b[49m\u001b[33;43m'\u001b[39;49m\u001b[33;43mhigh\u001b[39;49m\u001b[33;43m'\u001b[39;49m\u001b[43m]\u001b[49m)-np.log(df[\u001b[33m'\u001b[39m\u001b[33mlow\u001b[39m\u001b[33m'\u001b[39m]))**\u001b[32m2\u001b[39m)/\u001b[32m2\u001b[39m-(\u001b[32m2\u001b[39m*np.log(\u001b[32m2\u001b[39m)-\u001b[32m1\u001b[39m)*((np.log(df[\u001b[33m'\u001b[39m\u001b[33madj close\u001b[39m\u001b[33m'\u001b[39m])-np.log(df[\u001b[33m'\u001b[39m\u001b[33mopen\u001b[39m\u001b[33m'\u001b[39m]))**\u001b[32m2\u001b[39m)\n\u001b[32m      2\u001b[39m df\n",
      "\u001b[36mFile \u001b[39m\u001b[32mc:\\Users\\minhp\\AppData\\Local\\Programs\\Python\\Python313\\Lib\\site-packages\\pandas\\core\\frame.py:4102\u001b[39m, in \u001b[36mDataFrame.__getitem__\u001b[39m\u001b[34m(self, key)\u001b[39m\n\u001b[32m   4100\u001b[39m \u001b[38;5;28;01mif\u001b[39;00m \u001b[38;5;28mself\u001b[39m.columns.nlevels > \u001b[32m1\u001b[39m:\n\u001b[32m   4101\u001b[39m     \u001b[38;5;28;01mreturn\u001b[39;00m \u001b[38;5;28mself\u001b[39m._getitem_multilevel(key)\n\u001b[32m-> \u001b[39m\u001b[32m4102\u001b[39m indexer = \u001b[38;5;28;43mself\u001b[39;49m\u001b[43m.\u001b[49m\u001b[43mcolumns\u001b[49m\u001b[43m.\u001b[49m\u001b[43mget_loc\u001b[49m\u001b[43m(\u001b[49m\u001b[43mkey\u001b[49m\u001b[43m)\u001b[49m\n\u001b[32m   4103\u001b[39m \u001b[38;5;28;01mif\u001b[39;00m is_integer(indexer):\n\u001b[32m   4104\u001b[39m     indexer = [indexer]\n",
      "\u001b[36mFile \u001b[39m\u001b[32mc:\\Users\\minhp\\AppData\\Local\\Programs\\Python\\Python313\\Lib\\site-packages\\pandas\\core\\indexes\\base.py:3812\u001b[39m, in \u001b[36mIndex.get_loc\u001b[39m\u001b[34m(self, key)\u001b[39m\n\u001b[32m   3807\u001b[39m     \u001b[38;5;28;01mif\u001b[39;00m \u001b[38;5;28misinstance\u001b[39m(casted_key, \u001b[38;5;28mslice\u001b[39m) \u001b[38;5;129;01mor\u001b[39;00m (\n\u001b[32m   3808\u001b[39m         \u001b[38;5;28misinstance\u001b[39m(casted_key, abc.Iterable)\n\u001b[32m   3809\u001b[39m         \u001b[38;5;129;01mand\u001b[39;00m \u001b[38;5;28many\u001b[39m(\u001b[38;5;28misinstance\u001b[39m(x, \u001b[38;5;28mslice\u001b[39m) \u001b[38;5;28;01mfor\u001b[39;00m x \u001b[38;5;129;01min\u001b[39;00m casted_key)\n\u001b[32m   3810\u001b[39m     ):\n\u001b[32m   3811\u001b[39m         \u001b[38;5;28;01mraise\u001b[39;00m InvalidIndexError(key)\n\u001b[32m-> \u001b[39m\u001b[32m3812\u001b[39m     \u001b[38;5;28;01mraise\u001b[39;00m \u001b[38;5;167;01mKeyError\u001b[39;00m(key) \u001b[38;5;28;01mfrom\u001b[39;00m\u001b[38;5;250m \u001b[39m\u001b[34;01merr\u001b[39;00m\n\u001b[32m   3813\u001b[39m \u001b[38;5;28;01mexcept\u001b[39;00m \u001b[38;5;167;01mTypeError\u001b[39;00m:\n\u001b[32m   3814\u001b[39m     \u001b[38;5;66;03m# If we have a listlike key, _check_indexing_error will raise\u001b[39;00m\n\u001b[32m   3815\u001b[39m     \u001b[38;5;66;03m#  InvalidIndexError. Otherwise we fall through and re-raise\u001b[39;00m\n\u001b[32m   3816\u001b[39m     \u001b[38;5;66;03m#  the TypeError.\u001b[39;00m\n\u001b[32m   3817\u001b[39m     \u001b[38;5;28mself\u001b[39m._check_indexing_error(key)\n",
      "\u001b[31mKeyError\u001b[39m: 'high'"
     ]
    }
   ],
   "source": [
    "df['garman_klass_vol'] = ((np.log(df['high'])-np.log(df['low']))**2)/2-(2*np.log(2)-1)*((np.log(df['adj close'])-np.log(df['open']))**2)\n",
    "df"
   ]
  },
  {
   "cell_type": "code",
   "execution_count": null,
   "id": "6630a7f5-bc61-463a-af50-76404f579a4e",
   "metadata": {},
   "outputs": [],
   "source": []
  },
  {
   "cell_type": "code",
   "execution_count": null,
   "id": "cfea818e-1acc-4fda-805e-0fb40c9846b6",
   "metadata": {},
   "outputs": [],
   "source": []
  },
  {
   "cell_type": "code",
   "execution_count": null,
   "id": "51c72f8b-9915-4348-8217-98dc8db9efa4",
   "metadata": {},
   "outputs": [],
   "source": []
  },
  {
   "cell_type": "code",
   "execution_count": null,
   "id": "348ac6c8-1e78-4240-adc1-d187bfc20ee2",
   "metadata": {},
   "outputs": [],
   "source": []
  }
 ],
 "metadata": {
  "kernelspec": {
   "display_name": "Python 3",
   "language": "python",
   "name": "python3"
  },
  "language_info": {
   "codemirror_mode": {
    "name": "ipython",
    "version": 3
   },
   "file_extension": ".py",
   "mimetype": "text/x-python",
   "name": "python",
   "nbconvert_exporter": "python",
   "pygments_lexer": "ipython3",
   "version": "3.13.3"
  }
 },
 "nbformat": 4,
 "nbformat_minor": 5
}
